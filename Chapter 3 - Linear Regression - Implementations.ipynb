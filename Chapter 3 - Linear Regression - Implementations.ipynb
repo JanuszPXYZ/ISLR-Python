{
 "cells": [
  {
   "cell_type": "markdown",
   "metadata": {},
   "source": [
    "### 3.1.1 Estimating the Coefficients"
   ]
  },
  {
   "cell_type": "code",
   "execution_count": 1,
   "metadata": {},
   "outputs": [],
   "source": [
    "import numpy as np\n",
    "import pandas as pd\n",
    "import matplotlib.pyplot as plt\n",
    "import seaborn as sns\n",
    "\n",
    "import os\n",
    "from typing import Dict, List, Tuple\n",
    "from numpy import ndarray"
   ]
  },
  {
   "cell_type": "code",
   "execution_count": 2,
   "metadata": {},
   "outputs": [],
   "source": [
    "data_path = os.getcwd() + '/data'"
   ]
  },
  {
   "cell_type": "code",
   "execution_count": 3,
   "metadata": {},
   "outputs": [],
   "source": [
    "sales = pd.read_csv(data_path + '/Advertising.csv')"
   ]
  },
  {
   "cell_type": "code",
   "execution_count": 4,
   "metadata": {},
   "outputs": [],
   "source": [
    "cols = sales.columns.values\n",
    "cols = cols[1:]"
   ]
  },
  {
   "cell_type": "code",
   "execution_count": 5,
   "metadata": {},
   "outputs": [],
   "source": [
    "sales = sales[cols]"
   ]
  },
  {
   "cell_type": "code",
   "execution_count": 6,
   "metadata": {},
   "outputs": [
    {
     "data": {
      "text/plain": [
       "Text(0, 0.5, 'Sales')"
      ]
     },
     "execution_count": 6,
     "metadata": {},
     "output_type": "execute_result"
    },
    {
     "data": {
      "image/png": "[encoded data removed]",
      "text/plain": [
       "<Figure size 432x288 with 1 Axes>"
      ]
     },
     "metadata": {
      "needs_background": "light"
     },
     "output_type": "display_data"
    }
   ],
   "source": [
    "plt.scatter(sales['TV'], sales['sales'])\n",
    "plt.xlabel('TV')\n",
    "plt.ylabel('Sales')"
   ]
  },
  {
   "cell_type": "markdown",
   "metadata": {},
   "source": [
    "Let `y(hat)i = θ0 + θ1xi` be the prediction for Y based on the i-th value of X. Then `ei = yi - y(hat)i` represents the i-th *residual* - this is the difference between the i-th observed response value and the i-th response value that is predicted by our linear model."
   ]
  },
  {
   "cell_type": "code",
   "execution_count": 7,
   "metadata": {},
   "outputs": [],
   "source": [
    "# Helper function\n",
    "def init_weights(n_in: int) -> Dict[str, ndarray]:\n",
    "    \n",
    "    weights: Dict[str, ndarray] = {}\n",
    "    weights['W'] = np.random.randn(n_in, 1)\n",
    "    weights['B'] = np.random.randn(1,1)\n",
    "    return weights"
   ]
  },
  {
   "cell_type": "code",
   "execution_count": 30,
   "metadata": {},
   "outputs": [],
   "source": [
    "# Least squares coefficient estimates for simple linear regression y = theta0 + theta1X\n",
    "def LS_coef_estimates(x: ndarray, y: ndarray) -> Dict[str, ndarray]:\n",
    "    \n",
    "    coefs: Dict[str, ndarray] = {}\n",
    "    theta_1 = np.sum((x - np.mean(x)) * (y - np.mean(y))) / np.sum(np.power(x - np.mean(x),2))\n",
    "    theta_0 = np.mean(y) - theta_1 * np.mean(x)\n",
    "    \n",
    "    coefs['theta0'] = theta_0\n",
    "    coefs['theta1'] = theta_1\n",
    "    \n",
    "    return coefs"
   ]
  },
  {
   "cell_type": "markdown",
   "metadata": {},
   "source": [
    "Let's see if the LS_coef_estimates works as intended. We want to fit the simple linear regression on the TV advertising, i.e. `sales ~ theta_0 + theta_1 * TV`"
   ]
  },
  {
   "cell_type": "code",
   "execution_count": 31,
   "metadata": {},
   "outputs": [
    {
     "data": {
      "text/plain": [
       "{'theta0': 7.0325935491276965, 'theta1': 0.047536640433019736}"
      ]
     },
     "execution_count": 31,
     "metadata": {},
     "output_type": "execute_result"
    }
   ],
   "source": [
    "params = LS_coef_estimates(sales['TV'], sales['sales'])\n",
    "params"
   ]
  },
  {
   "cell_type": "code",
   "execution_count": 55,
   "metadata": {},
   "outputs": [
    {
     "data": {
      "text/plain": [
       "array([0.04, 0.05, 0.06, 0.07, 0.08])"
      ]
     },
     "execution_count": 55,
     "metadata": {},
     "output_type": "execute_result"
    }
   ],
   "source": [
    "np.arange(0.04, 0.09, 0.01)"
   ]
  },
  {
   "cell_type": "code",
   "execution_count": 64,
   "metadata": {},
   "outputs": [
    {
     "data": {
      "text/plain": [
       "(5, 9)"
      ]
     },
     "execution_count": 64,
     "metadata": {},
     "output_type": "execute_result"
    },
    {
     "data": {
      "image/png": "[encoded data removed]",
      "text/plain": [
       "<Figure size 432x288 with 1 Axes>"
      ]
     },
     "metadata": {
      "needs_background": "light"
     },
     "output_type": "display_data"
    }
   ],
   "source": [
    "plt.scatter(params['theta0'], params['theta1'], color = 'r')\n",
    "plt.xlabel('Theta0')\n",
    "plt.ylabel('Theta1')\n",
    "plt.ylim(0.03, 0.06)\n",
    "plt.xlim(5, 9)"
   ]
  },
  {
   "cell_type": "code",
   "execution_count": 32,
   "metadata": {},
   "outputs": [],
   "source": [
    "def simple_linreg(x: ndarray, coefs: Dict[str, ndarray]) -> ndarray:\n",
    "    prediction = coefs['theta0'] + coefs['theta1'] * x\n",
    "    return prediction"
   ]
  },
  {
   "cell_type": "code",
   "execution_count": 80,
   "metadata": {},
   "outputs": [],
   "source": [
    "def RSS(x: ndarray, \n",
    "        coefs: Dict[str, ndarray], \n",
    "        y: ndarray) -> ndarray:\n",
    "    \n",
    "    prediction = simple_linreg(x, coefs)\n",
    "    residuals = y - prediction\n",
    "    \n",
    "    residual_sum_of_squares = np.sum(np.power(residuals, 2))\n",
    "    \n",
    "    return residual_sum_of_squares"
   ]
  },
  {
   "cell_type": "code",
   "execution_count": 82,
   "metadata": {
    "scrolled": true
   },
   "outputs": [
    {
     "data": {
      "text/plain": [
       "2102.5305831313512"
      ]
     },
     "execution_count": 82,
     "metadata": {},
     "output_type": "execute_result"
    }
   ],
   "source": [
    "RSS(sales['TV'], params, sales['sales'])"
   ]
  },
  {
   "cell_type": "code",
   "execution_count": 33,
   "metadata": {},
   "outputs": [],
   "source": [
    "linreg = simple_linreg(sales['TV'], params)"
   ]
  },
  {
   "cell_type": "code",
   "execution_count": 35,
   "metadata": {
    "scrolled": true
   },
   "outputs": [
    {
     "data": {
      "text/plain": [
       "0      17.970775\n",
       "1       9.147974\n",
       "2       7.850224\n",
       "3      14.234395\n",
       "4      15.627218\n",
       "         ...    \n",
       "195     8.848493\n",
       "196    11.510545\n",
       "197    15.446579\n",
       "198    20.513985\n",
       "199    18.065848\n",
       "Name: TV, Length: 200, dtype: float64"
      ]
     },
     "execution_count": 35,
     "metadata": {},
     "output_type": "execute_result"
    }
   ],
   "source": [
    "linreg"
   ]
  },
  {
   "cell_type": "code",
   "execution_count": 36,
   "metadata": {},
   "outputs": [],
   "source": [
    "X_preds = [x for x in range(300)]\n",
    "X_preds = np.array(X_preds).reshape(-1,1)"
   ]
  },
  {
   "cell_type": "code",
   "execution_count": 37,
   "metadata": {},
   "outputs": [],
   "source": [
    "vanilla_linreg = simple_linreg(X_preds, params)"
   ]
  },
  {
   "cell_type": "code",
   "execution_count": 40,
   "metadata": {
    "scrolled": true
   },
   "outputs": [
    {
     "data": {
      "text/plain": [
       "Text(0, 0.5, 'Sales')"
      ]
     },
     "execution_count": 40,
     "metadata": {},
     "output_type": "execute_result"
    },
    {
     "data": {
      "image/png": "[encoded data removed]",
      "text/plain": [
       "<Figure size 576x360 with 1 Axes>"
      ]
     },
     "metadata": {
      "needs_background": "light"
     },
     "output_type": "display_data"
    }
   ],
   "source": [
    "plt.figure(figsize=(8,5))\n",
    "plt.scatter(sales['TV'], sales['sales'])\n",
    "plt.plot(vanilla_linreg, color = 'r')\n",
    "plt.xlabel('TV')\n",
    "plt.ylabel('Sales')"
   ]
  },
  {
   "cell_type": "markdown",
   "metadata": {},
   "source": [
    "According to this approximation, an **additional $1000 spend on TV advertising is associated with selling approximately 47.5 additional units of the product.**"
   ]
  },
  {
   "cell_type": "markdown",
   "metadata": {},
   "source": [
    "### Sklearn implementation (to be used in comparison with the 'vanilla' approach coded above)"
   ]
  },
  {
   "cell_type": "code",
   "execution_count": 83,
   "metadata": {},
   "outputs": [],
   "source": [
    "from sklearn.linear_model import LinearRegression"
   ]
  },
  {
   "cell_type": "code",
   "execution_count": 84,
   "metadata": {},
   "outputs": [],
   "source": [
    "linreg = LinearRegression()"
   ]
  },
  {
   "cell_type": "code",
   "execution_count": 85,
   "metadata": {},
   "outputs": [],
   "source": [
    "X = np.array(sales['TV']).reshape(-1,1)\n",
    "y = np.array(sales['sales']).reshape(-1,1)"
   ]
  },
  {
   "cell_type": "code",
   "execution_count": 86,
   "metadata": {},
   "outputs": [
    {
     "data": {
      "text/plain": [
       "LinearRegression(copy_X=True, fit_intercept=True, n_jobs=None, normalize=False)"
      ]
     },
     "execution_count": 86,
     "metadata": {},
     "output_type": "execute_result"
    }
   ],
   "source": [
    "linreg.fit(X, y)"
   ]
  },
  {
   "cell_type": "code",
   "execution_count": 96,
   "metadata": {
    "scrolled": true
   },
   "outputs": [
    {
     "data": {
      "text/plain": [
       "2102.5305831313512"
      ]
     },
     "execution_count": 96,
     "metadata": {},
     "output_type": "execute_result"
    }
   ],
   "source": [
    "np.sum(np.power(y - linreg.predict(X), 2))"
   ]
  },
  {
   "cell_type": "code",
   "execution_count": 91,
   "metadata": {},
   "outputs": [
    {
     "data": {
      "text/plain": [
       "array([1211.12304443])"
      ]
     },
     "execution_count": 91,
     "metadata": {},
     "output_type": "execute_result"
    }
   ],
   "source": [
    "linreg.singular_"
   ]
  },
  {
   "cell_type": "code",
   "execution_count": 92,
   "metadata": {},
   "outputs": [
    {
     "data": {
      "text/plain": [
       "array([[17.97077451],\n",
       "       [ 9.14797405],\n",
       "       [ 7.85022376],\n",
       "       [14.23439457],\n",
       "       [15.62721814],\n",
       "       [ 7.44616232],\n",
       "       [ 9.76595037],\n",
       "       [12.74649773],\n",
       "       [ 7.44140866],\n",
       "       [16.53041431],\n",
       "       [10.17476548],\n",
       "       [17.23871025],\n",
       "       [ 8.16396559],\n",
       "       [11.66741599],\n",
       "       [16.73482186],\n",
       "       [16.32125309],\n",
       "       [10.25557777],\n",
       "       [20.40940417],\n",
       "       [10.32212907],\n",
       "       [14.03474068],\n",
       "       [17.41459582],\n",
       "       [18.31779199],\n",
       "       [ 7.6600772 ],\n",
       "       [17.88520856],\n",
       "       [ 9.99412625],\n",
       "       [19.52997632],\n",
       "       [13.82557947],\n",
       "       [18.44614092],\n",
       "       [18.85970969],\n",
       "       [10.38868036],\n",
       "       [20.95607553],\n",
       "       [12.39948025],\n",
       "       [11.653155  ],\n",
       "       [19.65832525],\n",
       "       [11.58185004],\n",
       "       [20.85149492],\n",
       "       [19.72012288],\n",
       "       [10.58358059],\n",
       "       [ 9.08142275],\n",
       "       [17.87094757],\n",
       "       [16.65876324],\n",
       "       [15.44657891],\n",
       "       [20.98935118],\n",
       "       [16.86792445],\n",
       "       [ 8.22576322],\n",
       "       [15.35625929],\n",
       "       [11.2966302 ],\n",
       "       [18.43663359],\n",
       "       [17.83291826],\n",
       "       [10.21279479],\n",
       "       [16.53041431],\n",
       "       [11.80527225],\n",
       "       [17.31952254],\n",
       "       [15.71278409],\n",
       "       [19.52046899],\n",
       "       [16.48763133],\n",
       "       [ 7.37961102],\n",
       "       [13.50708398],\n",
       "       [17.05331735],\n",
       "       [17.04856369],\n",
       "       [ 9.57580381],\n",
       "       [19.45391769],\n",
       "       [18.4081116 ],\n",
       "       [11.91460652],\n",
       "       [13.26464711],\n",
       "       [10.31262174],\n",
       "       [ 8.52999772],\n",
       "       [13.65444756],\n",
       "       [18.31779199],\n",
       "       [17.3385372 ],\n",
       "       [16.49713866],\n",
       "       [12.25211667],\n",
       "       [ 8.30657551],\n",
       "       [13.18383482],\n",
       "       [17.17691262],\n",
       "       [ 7.83596277],\n",
       "       [ 8.33985116],\n",
       "       [12.76075872],\n",
       "       [ 7.28929141],\n",
       "       [12.54684384],\n",
       "       [10.66439288],\n",
       "       [18.43187992],\n",
       "       [10.61210257],\n",
       "       [10.28409975],\n",
       "       [17.18166628],\n",
       "       [16.21667248],\n",
       "       [10.65963921],\n",
       "       [12.29489965],\n",
       "       [11.2300789 ],\n",
       "       [12.25211667],\n",
       "       [13.41676436],\n",
       "       [ 8.39214147],\n",
       "       [17.38132017],\n",
       "       [18.95953663],\n",
       "       [12.13802873],\n",
       "       [14.79532693],\n",
       "       [16.4258337 ],\n",
       "       [15.82211837],\n",
       "       [20.80395828],\n",
       "       [13.45954734],\n",
       "       [17.60474238],\n",
       "       [21.12245377],\n",
       "       [20.3523602 ],\n",
       "       [15.96472829],\n",
       "       [18.3558213 ],\n",
       "       [13.58789626],\n",
       "       [ 8.22100956],\n",
       "       [11.32990584],\n",
       "       [ 7.65532354],\n",
       "       [19.17345152],\n",
       "       [17.76636696],\n",
       "       [18.52219954],\n",
       "       [15.38478127],\n",
       "       [16.99627338],\n",
       "       [10.74995883],\n",
       "       [10.60259525],\n",
       "       [13.6496939 ],\n",
       "       [10.66439288],\n",
       "       [13.00794925],\n",
       "       [ 7.95480437],\n",
       "       [13.74952084],\n",
       "       [ 7.92628239],\n",
       "       [17.68080101],\n",
       "       [12.88435399],\n",
       "       [17.94225253],\n",
       "       [11.17778859],\n",
       "       [ 7.40337934],\n",
       "       [10.84503211],\n",
       "       [17.50491544],\n",
       "       [ 9.86577732],\n",
       "       [ 7.0658692 ],\n",
       "       [19.63931059],\n",
       "       [ 7.43190133],\n",
       "       [17.48114712],\n",
       "       [ 8.78669558],\n",
       "       [ 9.32861328],\n",
       "       [ 8.24953154],\n",
       "       [20.04337204],\n",
       "       [ 9.07666909],\n",
       "       [15.82211837],\n",
       "       [10.52178296],\n",
       "       [16.2404408 ],\n",
       "       [17.51442276],\n",
       "       [12.00492614],\n",
       "       [11.60561836],\n",
       "       [13.7019842 ],\n",
       "       [18.44614092],\n",
       "       [18.5935045 ],\n",
       "       [ 8.83898589],\n",
       "       [ 9.15748138],\n",
       "       [20.37612852],\n",
       "       [12.78452704],\n",
       "       [16.4258337 ],\n",
       "       [15.17562006],\n",
       "       [15.95997462],\n",
       "       [ 7.22749377],\n",
       "       [11.49628409],\n",
       "       [14.15358229],\n",
       "       [ 7.58877224],\n",
       "       [13.29316909],\n",
       "       [15.23266402],\n",
       "       [11.10648363],\n",
       "       [15.98849661],\n",
       "       [14.80483426],\n",
       "       [12.60388781],\n",
       "       [18.17993573],\n",
       "       [ 7.88349941],\n",
       "       [16.86317079],\n",
       "       [17.2719859 ],\n",
       "       [20.54726042],\n",
       "       [ 9.40942557],\n",
       "       [14.8523709 ],\n",
       "       [ 7.9643117 ],\n",
       "       [15.0377638 ],\n",
       "       [17.60474238],\n",
       "       [20.19548929],\n",
       "       [18.84069503],\n",
       "       [15.12332975],\n",
       "       [20.18598196],\n",
       "       [14.9046612 ],\n",
       "       [14.47683144],\n",
       "       [17.41934948],\n",
       "       [ 9.70415274],\n",
       "       [20.70413134],\n",
       "       [19.09739289],\n",
       "       [16.77760484],\n",
       "       [13.66395489],\n",
       "       [16.11684554],\n",
       "       [20.62807271],\n",
       "       [ 7.92152873],\n",
       "       [ 8.91029085],\n",
       "       [10.6216099 ],\n",
       "       [ 7.85022376],\n",
       "       [14.96170517],\n",
       "       [14.14882862],\n",
       "       [ 8.84849321],\n",
       "       [11.51054508],\n",
       "       [15.44657891],\n",
       "       [20.51398478],\n",
       "       [18.06584779]])"
      ]
     },
     "execution_count": 92,
     "metadata": {},
     "output_type": "execute_result"
    }
   ],
   "source": [
    "linreg.predict(X)"
   ]
  },
  {
   "cell_type": "code",
   "execution_count": 93,
   "metadata": {},
   "outputs": [
    {
     "data": {
      "text/plain": [
       "array([[230.1],\n",
       "       [ 44.5],\n",
       "       [ 17.2],\n",
       "       [151.5],\n",
       "       [180.8],\n",
       "       [  8.7],\n",
       "       [ 57.5],\n",
       "       [120.2],\n",
       "       [  8.6],\n",
       "       [199.8],\n",
       "       [ 66.1],\n",
       "       [214.7],\n",
       "       [ 23.8],\n",
       "       [ 97.5],\n",
       "       [204.1],\n",
       "       [195.4],\n",
       "       [ 67.8],\n",
       "       [281.4],\n",
       "       [ 69.2],\n",
       "       [147.3],\n",
       "       [218.4],\n",
       "       [237.4],\n",
       "       [ 13.2],\n",
       "       [228.3],\n",
       "       [ 62.3],\n",
       "       [262.9],\n",
       "       [142.9],\n",
       "       [240.1],\n",
       "       [248.8],\n",
       "       [ 70.6],\n",
       "       [292.9],\n",
       "       [112.9],\n",
       "       [ 97.2],\n",
       "       [265.6],\n",
       "       [ 95.7],\n",
       "       [290.7],\n",
       "       [266.9],\n",
       "       [ 74.7],\n",
       "       [ 43.1],\n",
       "       [228. ],\n",
       "       [202.5],\n",
       "       [177. ],\n",
       "       [293.6],\n",
       "       [206.9],\n",
       "       [ 25.1],\n",
       "       [175.1],\n",
       "       [ 89.7],\n",
       "       [239.9],\n",
       "       [227.2],\n",
       "       [ 66.9],\n",
       "       [199.8],\n",
       "       [100.4],\n",
       "       [216.4],\n",
       "       [182.6],\n",
       "       [262.7],\n",
       "       [198.9],\n",
       "       [  7.3],\n",
       "       [136.2],\n",
       "       [210.8],\n",
       "       [210.7],\n",
       "       [ 53.5],\n",
       "       [261.3],\n",
       "       [239.3],\n",
       "       [102.7],\n",
       "       [131.1],\n",
       "       [ 69. ],\n",
       "       [ 31.5],\n",
       "       [139.3],\n",
       "       [237.4],\n",
       "       [216.8],\n",
       "       [199.1],\n",
       "       [109.8],\n",
       "       [ 26.8],\n",
       "       [129.4],\n",
       "       [213.4],\n",
       "       [ 16.9],\n",
       "       [ 27.5],\n",
       "       [120.5],\n",
       "       [  5.4],\n",
       "       [116. ],\n",
       "       [ 76.4],\n",
       "       [239.8],\n",
       "       [ 75.3],\n",
       "       [ 68.4],\n",
       "       [213.5],\n",
       "       [193.2],\n",
       "       [ 76.3],\n",
       "       [110.7],\n",
       "       [ 88.3],\n",
       "       [109.8],\n",
       "       [134.3],\n",
       "       [ 28.6],\n",
       "       [217.7],\n",
       "       [250.9],\n",
       "       [107.4],\n",
       "       [163.3],\n",
       "       [197.6],\n",
       "       [184.9],\n",
       "       [289.7],\n",
       "       [135.2],\n",
       "       [222.4],\n",
       "       [296.4],\n",
       "       [280.2],\n",
       "       [187.9],\n",
       "       [238.2],\n",
       "       [137.9],\n",
       "       [ 25. ],\n",
       "       [ 90.4],\n",
       "       [ 13.1],\n",
       "       [255.4],\n",
       "       [225.8],\n",
       "       [241.7],\n",
       "       [175.7],\n",
       "       [209.6],\n",
       "       [ 78.2],\n",
       "       [ 75.1],\n",
       "       [139.2],\n",
       "       [ 76.4],\n",
       "       [125.7],\n",
       "       [ 19.4],\n",
       "       [141.3],\n",
       "       [ 18.8],\n",
       "       [224. ],\n",
       "       [123.1],\n",
       "       [229.5],\n",
       "       [ 87.2],\n",
       "       [  7.8],\n",
       "       [ 80.2],\n",
       "       [220.3],\n",
       "       [ 59.6],\n",
       "       [  0.7],\n",
       "       [265.2],\n",
       "       [  8.4],\n",
       "       [219.8],\n",
       "       [ 36.9],\n",
       "       [ 48.3],\n",
       "       [ 25.6],\n",
       "       [273.7],\n",
       "       [ 43. ],\n",
       "       [184.9],\n",
       "       [ 73.4],\n",
       "       [193.7],\n",
       "       [220.5],\n",
       "       [104.6],\n",
       "       [ 96.2],\n",
       "       [140.3],\n",
       "       [240.1],\n",
       "       [243.2],\n",
       "       [ 38. ],\n",
       "       [ 44.7],\n",
       "       [280.7],\n",
       "       [121. ],\n",
       "       [197.6],\n",
       "       [171.3],\n",
       "       [187.8],\n",
       "       [  4.1],\n",
       "       [ 93.9],\n",
       "       [149.8],\n",
       "       [ 11.7],\n",
       "       [131.7],\n",
       "       [172.5],\n",
       "       [ 85.7],\n",
       "       [188.4],\n",
       "       [163.5],\n",
       "       [117.2],\n",
       "       [234.5],\n",
       "       [ 17.9],\n",
       "       [206.8],\n",
       "       [215.4],\n",
       "       [284.3],\n",
       "       [ 50. ],\n",
       "       [164.5],\n",
       "       [ 19.6],\n",
       "       [168.4],\n",
       "       [222.4],\n",
       "       [276.9],\n",
       "       [248.4],\n",
       "       [170.2],\n",
       "       [276.7],\n",
       "       [165.6],\n",
       "       [156.6],\n",
       "       [218.5],\n",
       "       [ 56.2],\n",
       "       [287.6],\n",
       "       [253.8],\n",
       "       [205. ],\n",
       "       [139.5],\n",
       "       [191.1],\n",
       "       [286. ],\n",
       "       [ 18.7],\n",
       "       [ 39.5],\n",
       "       [ 75.5],\n",
       "       [ 17.2],\n",
       "       [166.8],\n",
       "       [149.7],\n",
       "       [ 38.2],\n",
       "       [ 94.2],\n",
       "       [177. ],\n",
       "       [283.6],\n",
       "       [232.1]])"
      ]
     },
     "execution_count": 93,
     "metadata": {},
     "output_type": "execute_result"
    }
   ],
   "source": [
    "X"
   ]
  },
  {
   "cell_type": "code",
   "execution_count": 19,
   "metadata": {},
   "outputs": [],
   "source": [
    "X_to_pred = [x for x in range(300)]\n",
    "X_to_pred = np.array(X_to_pred).reshape(-1,1)"
   ]
  },
  {
   "cell_type": "code",
   "execution_count": 20,
   "metadata": {},
   "outputs": [],
   "source": [
    "preds=linreg.predict(X_to_pred)"
   ]
  },
  {
   "cell_type": "code",
   "execution_count": 21,
   "metadata": {
    "scrolled": false
   },
   "outputs": [
    {
     "data": {
      "text/plain": [
       "[<matplotlib.lines.Line2D at 0x12f477fd0>]"
      ]
     },
     "execution_count": 21,
     "metadata": {},
     "output_type": "execute_result"
    },
    {
     "data": {
      "image/png": "[encoded data removed]",
      "text/plain": [
       "<Figure size 432x288 with 1 Axes>"
      ]
     },
     "metadata": {
      "needs_background": "light"
     },
     "output_type": "display_data"
    }
   ],
   "source": [
    "plt.scatter(sales['TV'], sales['sales'])\n",
    "plt.plot(preds, 'r')"
   ]
  },
  {
   "cell_type": "markdown",
   "metadata": {},
   "source": [
    "## 3.1.2 Assessing the Accuracy of the Coefficient Estimates"
   ]
  },
  {
   "cell_type": "code",
   "execution_count": 265,
   "metadata": {},
   "outputs": [],
   "source": [
    "x = np.random.random(100)\n",
    "y = 2 + (3 * x) + np.random.randn(100)"
   ]
  },
  {
   "cell_type": "code",
   "execution_count": 266,
   "metadata": {},
   "outputs": [
    {
     "data": {
      "text/plain": [
       "<matplotlib.collections.PathCollection at 0x133e949d0>"
      ]
     },
     "execution_count": 266,
     "metadata": {},
     "output_type": "execute_result"
    },
    {
     "data": {
      "image/png": "[encoded data removed]",
      "text/plain": [
       "<Figure size 432x288 with 1 Axes>"
      ]
     },
     "metadata": {
      "needs_background": "light"
     },
     "output_type": "display_data"
    }
   ],
   "source": [
    "plt.scatter(x,y)"
   ]
  },
  {
   "cell_type": "code",
   "execution_count": null,
   "metadata": {},
   "outputs": [],
   "source": []
  }
 ],
 "metadata": {
  "kernelspec": {
   "display_name": "Python 3",
   "language": "python",
   "name": "python3"
  },
  "language_info": {
   "codemirror_mode": {
    "name": "ipython",
    "version": 3
   },
   "file_extension": ".py",
   "mimetype": "text/x-python",
   "name": "python",
   "nbconvert_exporter": "python",
   "pygments_lexer": "ipython3",
   "version": "3.7.4"
  }
 },
 "nbformat": 4,
 "nbformat_minor": 4
}
